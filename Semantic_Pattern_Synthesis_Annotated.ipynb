{
 "cells": [
  {
   "cell_type": "markdown",
   "id": "94ba4c21",
   "metadata": {},
   "source": [
    "# Semantic Pattern Synthesis\n",
    "This notebook synthesizes experiments analyzing the topological and functional structure of contextual meaning. We focus on the verb **'run'**, examining BERT trajectories, curvature, clustering, and functional mapping."
   ]
  },
  {
   "cell_type": "markdown",
   "id": "6a41db76",
   "metadata": {},
   "source": [
    "## 1. Load contextual sentences\n",
    "We define 48 contextual uses of *'run'* evenly across four semantic functions:"
   ]
  },
  {
   "cell_type": "code",
   "execution_count": 11,
   "id": "49b80f09",
   "metadata": {},
   "outputs": [],
   "source": [
    "sentences = [\n",
    "    # descriptive (12)\n",
    "    \"She likes to run early in the morning before work.\",\n",
    "    \"The marathon runner collapsed after a grueling 26-mile run.\",\n",
    "    \"The river runs along the eastern border.\",\n",
    "    \"The software update runs automatically.\",\n",
    "    \"His nose began to run during the allergy season.\",\n",
    "    \"The ink began to run in the rain.\",\n",
    "    \"We saw a deer run across the highway at dusk.\",\n",
    "    \"The children ran through the field chasing butterflies.\",\n",
    "    \"The mountain stream runs fast in spring.\",\n",
    "    \"The play ran for three consecutive seasons.\",\n",
    "    \"They ran diagnostics to isolate the error.\",\n",
    "    \"She ran her fingers along the dusty shelf.\",\n",
    "    # evaluative (12)\n",
    "    \"That joke is starting to run thin.\",\n",
    "    \"The show has had a good run but it's time to end.\",\n",
    "    \"Don’t let your temper run away with you.\",\n",
    "    \"The campaign is running out of steam.\",\n",
    "    \"He let the story run its course.\",\n",
    "    \"This film had a limited theatrical run.\",\n",
    "    \"That rumor ran rampant on social media.\",\n",
    "    \"He was caught in a run of bad luck.\",\n",
    "    \"He’s running behind schedule again.\",\n",
    "    \"She’s running on empty after a tough week.\",\n",
    "    \"The idea ran against conventional wisdom.\",\n",
    "    \"His excuses are beginning to run thin.\",\n",
    "    # narrative (12)\n",
    "    \"He ran into trouble with the tax authorities.\",\n",
    "    \"She ran the numbers twice before presenting them.\",\n",
    "    \"The suspect tried to run from the scene.\",\n",
    "    \"We did a test run before the final performance.\",\n",
    "    \"The faucet was left on and water began to run.\",\n",
    "    \"She screamed and began to run down the street.\",\n",
    "    \"He let his imagination run wild.\",\n",
    "    \"They ran a tight ship in that department.\",\n",
    "    \"They run tests on samples before publishing results.\",\n",
    "    \"Let’s run through the list one more time.\",\n",
    "    \"He ran his hand over the sculpture's surface.\",\n",
    "    \"The children ran screaming through the sprinkler.\",\n",
    "    # performative (12)\n",
    "    \"Run the idea by me again.\",\n",
    "    \"Let the engine run for five minutes.\",\n",
    "    \"Run for your life!\",\n",
    "    \"She decided to run the experiment again.\",\n",
    "    \"They’re running a sale on electronics this weekend.\",\n",
    "    \"She’s running for president of the council.\",\n",
    "    \"The manager ran the meeting efficiently.\",\n",
    "    \"He used to run track in college.\",\n",
    "    \"They run a family-owned bakery downtown.\",\n",
    "    \"He decided to run for office in the next election.\",\n",
    "    \"Please run this report by end of day.\",\n",
    "    \"Run the installer before rebooting.\"\n",
    "]\n",
    "# 🧠 Matching semantic function per sentence\n",
    "semantic_functions = (\n",
    "    [\"descriptive\"] * 12 +\n",
    "    [\"evaluative\"] * 12 +\n",
    "    [\"narrative\"] * 12 +\n",
    "    [\"performative\"] * 12\n",
    ")"
   ]
  },
  {
   "cell_type": "markdown",
   "id": "8888632d",
   "metadata": {},
   "source": [
    "## 2. BERT Trajectory Extraction\n",
    "We extract the contextual embedding of each 'run' token across 12 BERT layers."
   ]
  },
  {
   "cell_type": "code",
   "execution_count": 12,
   "id": "3b1b67d5",
   "metadata": {},
   "outputs": [
    {
     "name": "stdout",
     "output_type": "stream",
     "text": [
      "🔍 Matching token: 'run'\n"
     ]
    },
    {
     "name": "stderr",
     "output_type": "stream",
     "text": [
      "  2%|██▎                                                                                                             | 1/48 [00:00<00:05,  8.82it/s]"
     ]
    },
    {
     "name": "stdout",
     "output_type": "stream",
     "text": [
      "🧾 Sentence: She likes to run early in the morning before work.\n",
      "🔤 Tokens: ['[CLS]', 'she', 'likes', 'to', 'run', 'early', 'in', 'the', 'morning', 'before', 'work', '.', '[SEP]']\n",
      "🧾 Sentence: The marathon runner collapsed after a grueling 26-mile run.\n",
      "🔤 Tokens: ['[CLS]', 'the', 'marathon', 'runner', 'collapsed', 'after', 'a', 'gr', '##uel', '##ing', '26', '-', 'mile', 'run', '.', '[SEP]']\n"
     ]
    },
    {
     "name": "stderr",
     "output_type": "stream",
     "text": [
      "  6%|███████                                                                                                         | 3/48 [00:00<00:03, 12.60it/s]"
     ]
    },
    {
     "name": "stdout",
     "output_type": "stream",
     "text": [
      "🧾 Sentence: The river runs along the eastern border.\n",
      "🔤 Tokens: ['[CLS]', 'the', 'river', 'runs', 'along', 'the', 'eastern', 'border', '.', '[SEP]']\n"
     ]
    },
    {
     "name": "stderr",
     "output_type": "stream",
     "text": [
      " 10%|███████████▋                                                                                                    | 5/48 [00:00<00:07,  6.04it/s]"
     ]
    },
    {
     "name": "stdout",
     "output_type": "stream",
     "text": [
      "🧾 Sentence: The software update runs automatically.\n",
      "🔤 Tokens: ['[CLS]', 'the', 'software', 'update', 'runs', 'automatically', '.', '[SEP]']\n",
      "🧾 Sentence: His nose began to run during the allergy season.\n",
      "🔤 Tokens: ['[CLS]', 'his', 'nose', 'began', 'to', 'run', 'during', 'the', 'all', '##ergy', 'season', '.', '[SEP]']\n"
     ]
    },
    {
     "name": "stderr",
     "output_type": "stream",
     "text": [
      " 12%|██████████████                                                                                                  | 6/48 [00:00<00:07,  5.70it/s]"
     ]
    },
    {
     "name": "stdout",
     "output_type": "stream",
     "text": [
      "🧾 Sentence: The ink began to run in the rain.\n",
      "🔤 Tokens: ['[CLS]', 'the', 'ink', 'began', 'to', 'run', 'in', 'the', 'rain', '.', '[SEP]']\n"
     ]
    },
    {
     "name": "stderr",
     "output_type": "stream",
     "text": [
      " 17%|██████████████████▋                                                                                             | 8/48 [00:01<00:07,  5.37it/s]"
     ]
    },
    {
     "name": "stdout",
     "output_type": "stream",
     "text": [
      "🧾 Sentence: We saw a deer run across the highway at dusk.\n",
      "🔤 Tokens: ['[CLS]', 'we', 'saw', 'a', 'deer', 'run', 'across', 'the', 'highway', 'at', 'dusk', '.', '[SEP]']\n",
      "🧾 Sentence: The children ran through the field chasing butterflies.\n",
      "🔤 Tokens: ['[CLS]', 'the', 'children', 'ran', 'through', 'the', 'field', 'chasing', 'butterflies', '.', '[SEP]']\n",
      "⚠️ No 'run' token found — skipping.\n"
     ]
    },
    {
     "name": "stderr",
     "output_type": "stream",
     "text": [
      " 21%|███████████████████████▏                                                                                       | 10/48 [00:01<00:07,  5.32it/s]"
     ]
    },
    {
     "name": "stdout",
     "output_type": "stream",
     "text": [
      "🧾 Sentence: The mountain stream runs fast in spring.\n",
      "🔤 Tokens: ['[CLS]', 'the', 'mountain', 'stream', 'runs', 'fast', 'in', 'spring', '.', '[SEP]']\n",
      "🧾 Sentence: The play ran for three consecutive seasons.\n",
      "🔤 Tokens: ['[CLS]', 'the', 'play', 'ran', 'for', 'three', 'consecutive', 'seasons', '.', '[SEP]']\n",
      "⚠️ No 'run' token found — skipping.\n"
     ]
    },
    {
     "name": "stderr",
     "output_type": "stream",
     "text": [
      " 25%|███████████████████████████▊                                                                                   | 12/48 [00:02<00:06,  5.35it/s]"
     ]
    },
    {
     "name": "stdout",
     "output_type": "stream",
     "text": [
      "🧾 Sentence: They ran diagnostics to isolate the error.\n",
      "🔤 Tokens: ['[CLS]', 'they', 'ran', 'diagnostic', '##s', 'to', 'isolate', 'the', 'error', '.', '[SEP]']\n",
      "⚠️ No 'run' token found — skipping.\n",
      "🧾 Sentence: She ran her fingers along the dusty shelf.\n",
      "🔤 Tokens: ['[CLS]', 'she', 'ran', 'her', 'fingers', 'along', 'the', 'dusty', 'shelf', '.', '[SEP]']\n",
      "⚠️ No 'run' token found — skipping.\n"
     ]
    },
    {
     "name": "stderr",
     "output_type": "stream",
     "text": [
      " 29%|████████████████████████████████▍                                                                              | 14/48 [00:02<00:06,  5.66it/s]"
     ]
    },
    {
     "name": "stdout",
     "output_type": "stream",
     "text": [
      "🧾 Sentence: That joke is starting to run thin.\n",
      "🔤 Tokens: ['[CLS]', 'that', 'joke', 'is', 'starting', 'to', 'run', 'thin', '.', '[SEP]']\n",
      "🧾 Sentence: The show has had a good run but it's time to end.\n",
      "🔤 Tokens: ['[CLS]', 'the', 'show', 'has', 'had', 'a', 'good', 'run', 'but', 'it', \"'\", 's', 'time', 'to', 'end', '.', '[SEP]']\n"
     ]
    },
    {
     "name": "stderr",
     "output_type": "stream",
     "text": [
      " 33%|█████████████████████████████████████                                                                          | 16/48 [00:02<00:05,  5.68it/s]"
     ]
    },
    {
     "name": "stdout",
     "output_type": "stream",
     "text": [
      "🧾 Sentence: Don’t let your temper run away with you.\n",
      "🔤 Tokens: ['[CLS]', 'don', '’', 't', 'let', 'your', 'temper', 'run', 'away', 'with', 'you', '.', '[SEP]']\n",
      "🧾 Sentence: The campaign is running out of steam.\n",
      "🔤 Tokens: ['[CLS]', 'the', 'campaign', 'is', 'running', 'out', 'of', 'steam', '.', '[SEP]']\n"
     ]
    },
    {
     "name": "stderr",
     "output_type": "stream",
     "text": [
      " 35%|███████████████████████████████████████▎                                                                       | 17/48 [00:03<00:06,  4.83it/s]"
     ]
    },
    {
     "name": "stdout",
     "output_type": "stream",
     "text": [
      "🧾 Sentence: He let the story run its course.\n",
      "🔤 Tokens: ['[CLS]', 'he', 'let', 'the', 'story', 'run', 'its', 'course', '.', '[SEP]']\n"
     ]
    },
    {
     "name": "stderr",
     "output_type": "stream",
     "text": [
      " 40%|███████████████████████████████████████████▉                                                                   | 19/48 [00:03<00:05,  5.03it/s]"
     ]
    },
    {
     "name": "stdout",
     "output_type": "stream",
     "text": [
      "🧾 Sentence: This film had a limited theatrical run.\n",
      "🔤 Tokens: ['[CLS]', 'this', 'film', 'had', 'a', 'limited', 'theatrical', 'run', '.', '[SEP]']\n",
      "🧾 Sentence: That rumor ran rampant on social media.\n",
      "🔤 Tokens: ['[CLS]', 'that', 'rumor', 'ran', 'rampant', 'on', 'social', 'media', '.', '[SEP]']\n",
      "⚠️ No 'run' token found — skipping.\n"
     ]
    },
    {
     "name": "stderr",
     "output_type": "stream",
     "text": [
      " 44%|████████████████████████████████████████████████▌                                                              | 21/48 [00:03<00:05,  5.14it/s]"
     ]
    },
    {
     "name": "stdout",
     "output_type": "stream",
     "text": [
      "🧾 Sentence: He was caught in a run of bad luck.\n",
      "🔤 Tokens: ['[CLS]', 'he', 'was', 'caught', 'in', 'a', 'run', 'of', 'bad', 'luck', '.', '[SEP]']\n",
      "🧾 Sentence: He’s running behind schedule again.\n",
      "🔤 Tokens: ['[CLS]', 'he', '’', 's', 'running', 'behind', 'schedule', 'again', '.', '[SEP]']\n"
     ]
    },
    {
     "name": "stderr",
     "output_type": "stream",
     "text": [
      " 46%|██████████████████████████████████████████████████▉                                                            | 22/48 [00:04<00:05,  5.13it/s]"
     ]
    },
    {
     "name": "stdout",
     "output_type": "stream",
     "text": [
      "🧾 Sentence: She’s running on empty after a tough week.\n",
      "🔤 Tokens: ['[CLS]', 'she', '’', 's', 'running', 'on', 'empty', 'after', 'a', 'tough', 'week', '.', '[SEP]']\n"
     ]
    },
    {
     "name": "stderr",
     "output_type": "stream",
     "text": [
      " 48%|█████████████████████████████████████████████████████▏                                                         | 23/48 [00:04<00:05,  4.80it/s]"
     ]
    },
    {
     "name": "stdout",
     "output_type": "stream",
     "text": [
      "🧾 Sentence: The idea ran against conventional wisdom.\n",
      "🔤 Tokens: ['[CLS]', 'the', 'idea', 'ran', 'against', 'conventional', 'wisdom', '.', '[SEP]']\n",
      "⚠️ No 'run' token found — skipping.\n"
     ]
    },
    {
     "name": "stderr",
     "output_type": "stream",
     "text": [
      " 52%|█████████████████████████████████████████████████████████▊                                                     | 25/48 [00:04<00:04,  5.07it/s]"
     ]
    },
    {
     "name": "stdout",
     "output_type": "stream",
     "text": [
      "🧾 Sentence: His excuses are beginning to run thin.\n",
      "🔤 Tokens: ['[CLS]', 'his', 'excuses', 'are', 'beginning', 'to', 'run', 'thin', '.', '[SEP]']\n",
      "🧾 Sentence: He ran into trouble with the tax authorities.\n",
      "🔤 Tokens: ['[CLS]', 'he', 'ran', 'into', 'trouble', 'with', 'the', 'tax', 'authorities', '.', '[SEP]']\n",
      "⚠️ No 'run' token found — skipping.\n"
     ]
    },
    {
     "name": "stderr",
     "output_type": "stream",
     "text": [
      " 56%|██████████████████████████████████████████████████████████████▍                                                | 27/48 [00:04<00:03,  5.98it/s]"
     ]
    },
    {
     "name": "stdout",
     "output_type": "stream",
     "text": [
      "🧾 Sentence: She ran the numbers twice before presenting them.\n",
      "🔤 Tokens: ['[CLS]', 'she', 'ran', 'the', 'numbers', 'twice', 'before', 'presenting', 'them', '.', '[SEP]']\n",
      "⚠️ No 'run' token found — skipping.\n",
      "🧾 Sentence: The suspect tried to run from the scene.\n",
      "🔤 Tokens: ['[CLS]', 'the', 'suspect', 'tried', 'to', 'run', 'from', 'the', 'scene', '.', '[SEP]']\n"
     ]
    },
    {
     "name": "stderr",
     "output_type": "stream",
     "text": [
      " 60%|███████████████████████████████████████████████████████████████████                                            | 29/48 [00:05<00:03,  6.13it/s]"
     ]
    },
    {
     "name": "stdout",
     "output_type": "stream",
     "text": [
      "🧾 Sentence: We did a test run before the final performance.\n",
      "🔤 Tokens: ['[CLS]', 'we', 'did', 'a', 'test', 'run', 'before', 'the', 'final', 'performance', '.', '[SEP]']\n",
      "🧾 Sentence: The faucet was left on and water began to run.\n",
      "🔤 Tokens: ['[CLS]', 'the', 'fa', '##uce', '##t', 'was', 'left', 'on', 'and', 'water', 'began', 'to', 'run', '.', '[SEP]']\n"
     ]
    },
    {
     "name": "stderr",
     "output_type": "stream",
     "text": [
      " 65%|███████████████████████████████████████████████████████████████████████▋                                       | 31/48 [00:05<00:03,  5.51it/s]"
     ]
    },
    {
     "name": "stdout",
     "output_type": "stream",
     "text": [
      "🧾 Sentence: She screamed and began to run down the street.\n",
      "🔤 Tokens: ['[CLS]', 'she', 'screamed', 'and', 'began', 'to', 'run', 'down', 'the', 'street', '.', '[SEP]']\n",
      "🧾 Sentence: He let his imagination run wild.\n",
      "🔤 Tokens: ['[CLS]', 'he', 'let', 'his', 'imagination', 'run', 'wild', '.', '[SEP]']\n"
     ]
    },
    {
     "name": "stderr",
     "output_type": "stream",
     "text": [
      " 69%|████████████████████████████████████████████████████████████████████████████▎                                  | 33/48 [00:05<00:02,  6.11it/s]"
     ]
    },
    {
     "name": "stdout",
     "output_type": "stream",
     "text": [
      "🧾 Sentence: They ran a tight ship in that department.\n",
      "🔤 Tokens: ['[CLS]', 'they', 'ran', 'a', 'tight', 'ship', 'in', 'that', 'department', '.', '[SEP]']\n",
      "⚠️ No 'run' token found — skipping.\n",
      "🧾 Sentence: They run tests on samples before publishing results.\n",
      "🔤 Tokens: ['[CLS]', 'they', 'run', 'tests', 'on', 'samples', 'before', 'publishing', 'results', '.', '[SEP]']\n"
     ]
    },
    {
     "name": "stderr",
     "output_type": "stream",
     "text": [
      " 71%|██████████████████████████████████████████████████████████████████████████████▋                                | 34/48 [00:06<00:02,  6.57it/s]"
     ]
    },
    {
     "name": "stdout",
     "output_type": "stream",
     "text": [
      "🧾 Sentence: Let’s run through the list one more time.\n",
      "🔤 Tokens: ['[CLS]', 'let', '’', 's', 'run', 'through', 'the', 'list', 'one', 'more', 'time', '.', '[SEP]']\n"
     ]
    },
    {
     "name": "stderr",
     "output_type": "stream",
     "text": [
      " 75%|███████████████████████████████████████████████████████████████████████████████████▎                           | 36/48 [00:06<00:01,  6.01it/s]"
     ]
    },
    {
     "name": "stdout",
     "output_type": "stream",
     "text": [
      "🧾 Sentence: He ran his hand over the sculpture's surface.\n",
      "🔤 Tokens: ['[CLS]', 'he', 'ran', 'his', 'hand', 'over', 'the', 'sculpture', \"'\", 's', 'surface', '.', '[SEP]']\n",
      "⚠️ No 'run' token found — skipping.\n",
      "🧾 Sentence: The children ran screaming through the sprinkler.\n",
      "🔤 Tokens: ['[CLS]', 'the', 'children', 'ran', 'screaming', 'through', 'the', 'sp', '##rin', '##kle', '##r', '.', '[SEP]']\n",
      "⚠️ No 'run' token found — skipping.\n"
     ]
    },
    {
     "name": "stderr",
     "output_type": "stream",
     "text": [
      " 79%|███████████████████████████████████████████████████████████████████████████████████████▉                       | 38/48 [00:06<00:01,  6.09it/s]"
     ]
    },
    {
     "name": "stdout",
     "output_type": "stream",
     "text": [
      "🧾 Sentence: Run the idea by me again.\n",
      "🔤 Tokens: ['[CLS]', 'run', 'the', 'idea', 'by', 'me', 'again', '.', '[SEP]']\n",
      "🧾 Sentence: Let the engine run for five minutes.\n",
      "🔤 Tokens: ['[CLS]', 'let', 'the', 'engine', 'run', 'for', 'five', 'minutes', '.', '[SEP]']\n"
     ]
    },
    {
     "name": "stderr",
     "output_type": "stream",
     "text": [
      " 83%|████████████████████████████████████████████████████████████████████████████████████████████▌                  | 40/48 [00:07<00:01,  6.20it/s]"
     ]
    },
    {
     "name": "stdout",
     "output_type": "stream",
     "text": [
      "🧾 Sentence: Run for your life!\n",
      "🔤 Tokens: ['[CLS]', 'run', 'for', 'your', 'life', '!', '[SEP]']\n",
      "🧾 Sentence: She decided to run the experiment again.\n",
      "🔤 Tokens: ['[CLS]', 'she', 'decided', 'to', 'run', 'the', 'experiment', 'again', '.', '[SEP]']\n"
     ]
    },
    {
     "name": "stderr",
     "output_type": "stream",
     "text": [
      " 88%|█████████████████████████████████████████████████████████████████████████████████████████████████▏             | 42/48 [00:07<00:00,  6.88it/s]"
     ]
    },
    {
     "name": "stdout",
     "output_type": "stream",
     "text": [
      "🧾 Sentence: They’re running a sale on electronics this weekend.\n",
      "🔤 Tokens: ['[CLS]', 'they', '’', 're', 'running', 'a', 'sale', 'on', 'electronics', 'this', 'weekend', '.', '[SEP]']\n",
      "🧾 Sentence: She’s running for president of the council.\n",
      "🔤 Tokens: ['[CLS]', 'she', '’', 's', 'running', 'for', 'president', 'of', 'the', 'council', '.', '[SEP]']\n"
     ]
    },
    {
     "name": "stderr",
     "output_type": "stream",
     "text": [
      " 92%|█████████████████████████████████████████████████████████████████████████████████████████████████████▊         | 44/48 [00:07<00:00,  7.52it/s]"
     ]
    },
    {
     "name": "stdout",
     "output_type": "stream",
     "text": [
      "🧾 Sentence: The manager ran the meeting efficiently.\n",
      "🔤 Tokens: ['[CLS]', 'the', 'manager', 'ran', 'the', 'meeting', 'efficiently', '.', '[SEP]']\n",
      "⚠️ No 'run' token found — skipping.\n",
      "🧾 Sentence: He used to run track in college.\n",
      "🔤 Tokens: ['[CLS]', 'he', 'used', 'to', 'run', 'track', 'in', 'college', '.', '[SEP]']\n"
     ]
    },
    {
     "name": "stderr",
     "output_type": "stream",
     "text": [
      " 96%|██████████████████████████████████████████████████████████████████████████████████████████████████████████▍    | 46/48 [00:07<00:00,  7.65it/s]"
     ]
    },
    {
     "name": "stdout",
     "output_type": "stream",
     "text": [
      "🧾 Sentence: They run a family-owned bakery downtown.\n",
      "🔤 Tokens: ['[CLS]', 'they', 'run', 'a', 'family', '-', 'owned', 'bakery', 'downtown', '.', '[SEP]']\n",
      "🧾 Sentence: He decided to run for office in the next election.\n",
      "🔤 Tokens: ['[CLS]', 'he', 'decided', 'to', 'run', 'for', 'office', 'in', 'the', 'next', 'election', '.', '[SEP]']\n"
     ]
    },
    {
     "name": "stderr",
     "output_type": "stream",
     "text": [
      "100%|███████████████████████████████████████████████████████████████████████████████████████████████████████████████| 48/48 [00:08<00:00,  5.93it/s]"
     ]
    },
    {
     "name": "stdout",
     "output_type": "stream",
     "text": [
      "🧾 Sentence: Please run this report by end of day.\n",
      "🔤 Tokens: ['[CLS]', 'please', 'run', 'this', 'report', 'by', 'end', 'of', 'day', '.', '[SEP]']\n",
      "🧾 Sentence: Run the installer before rebooting.\n",
      "🔤 Tokens: ['[CLS]', 'run', 'the', 'install', '##er', 'before', 're', '##boot', '##ing', '.', '[SEP]']\n",
      "\n",
      "✅ Extracted 36 valid trajectories.\n"
     ]
    },
    {
     "name": "stderr",
     "output_type": "stream",
     "text": [
      "\n"
     ]
    }
   ],
   "source": [
    "from transformers import BertTokenizer, BertModel\n",
    "import torch, numpy as np\n",
    "from tqdm import tqdm\n",
    "\n",
    "tokenizer = BertTokenizer.from_pretrained(\"bert-base-uncased\")\n",
    "model = BertModel.from_pretrained(\"bert-base-uncased\", output_hidden_states=True)\n",
    "model.eval()\n",
    "\n",
    "trajectories = []\n",
    "valid_sentences = []\n",
    "\n",
    "print(\"🔍 Matching token: 'run'\")\n",
    "\n",
    "for sent in tqdm(sentences):\n",
    "    inputs = tokenizer(sent, return_tensors=\"pt\")\n",
    "    with torch.no_grad():\n",
    "        outputs = model(**inputs)\n",
    "    input_ids = inputs[\"input_ids\"][0]\n",
    "    tokens = tokenizer.convert_ids_to_tokens(input_ids)\n",
    "\n",
    "    print(f\"🧾 Sentence: {sent}\")\n",
    "    print(f\"🔤 Tokens: {tokens}\")\n",
    "\n",
    "    match_indices = [i for i, tok in enumerate(tokens) if \"run\" in tok.lower()]\n",
    "    if not match_indices:\n",
    "        print(\"⚠️ No 'run' token found — skipping.\")\n",
    "        continue\n",
    "\n",
    "    idx = match_indices[0]\n",
    "    layers = outputs.hidden_states\n",
    "    curve = torch.stack([layer[0, idx] for layer in layers])  # shape: (13, 768)\n",
    "    curve = curve[-12:]  # last 12 layers only\n",
    "\n",
    "    if curve.shape == (12, 768):\n",
    "        trajectories.append(curve.numpy())\n",
    "        valid_sentences.append(sent)\n",
    "    else:\n",
    "        print(\"❌ Unexpected shape — skipping.\")\n",
    "\n",
    "print(f\"\\n✅ Extracted {len(trajectories)} valid trajectories.\")"
   ]
  },
  {
   "cell_type": "markdown",
   "id": "b4630064",
   "metadata": {},
   "source": [
    "## 3. PCA Dimensionality Reduction"
   ]
  },
  {
   "cell_type": "code",
   "execution_count": 13,
   "id": "d76cee74",
   "metadata": {},
   "outputs": [],
   "source": [
    "from sklearn.decomposition import PCA\n",
    "flat = np.stack(trajectories).reshape(len(trajectories), -1)\n",
    "pca = PCA(n_components=30)\n",
    "reduced = pca.fit_transform(flat)\n"
   ]
  },
  {
   "cell_type": "markdown",
   "id": "4eae27aa",
   "metadata": {},
   "source": [
    "## 4. Scree Plot"
   ]
  },
  {
   "cell_type": "code",
   "execution_count": 14,
   "id": "83b9e5f2",
   "metadata": {},
   "outputs": [
    {
     "data": {
      "image/png": "[encoded data removed]",
      "text/plain": [
       "<Figure size 640x480 with 1 Axes>"
      ]
     },
     "metadata": {},
     "output_type": "display_data"
    }
   ],
   "source": [
    "import matplotlib.pyplot as plt\n",
    "plt.plot(np.cumsum(pca.explained_variance_ratio_))\n",
    "plt.xlabel('Components')\n",
    "plt.ylabel('Cumulative Explained Variance')\n",
    "plt.title('Scree Plot')\n",
    "plt.grid(True)\n",
    "plt.show()"
   ]
  },
  {
   "cell_type": "markdown",
   "id": "4366333f",
   "metadata": {},
   "source": [
    "## 5. UMAP Projection + DBSCAN"
   ]
  },
  {
   "cell_type": "code",
   "execution_count": 15,
   "id": "df3193ee",
   "metadata": {},
   "outputs": [
    {
     "name": "stdout",
     "output_type": "stream",
     "text": [
      "Labels: [ 0  0  0  0  0  0  0  0  0  1  0  0  0  1  1  0  0  0  0  1  0  0  0  0\n",
      "  0  0  0  0  0 -1  0  0  0  0  0  0]\n"
     ]
    },
    {
     "name": "stderr",
     "output_type": "stream",
     "text": [
      "/opt/miniconda3/lib/python3.12/site-packages/sklearn/utils/deprecation.py:151: FutureWarning: 'force_all_finite' was renamed to 'ensure_all_finite' in 1.6 and will be removed in 1.8.\n",
      "  warnings.warn(\n"
     ]
    }
   ],
   "source": [
    "from umap import UMAP\n",
    "from sklearn.cluster import DBSCAN\n",
    "umap = UMAP(n_components=3)\n",
    "embed = umap.fit_transform(flat)\n",
    "db = DBSCAN(eps=0.8, min_samples=3)\n",
    "labels = db.fit_predict(embed)\n",
    "print(\"Labels:\", labels)"
   ]
  },
  {
   "cell_type": "markdown",
   "id": "e4bada86",
   "metadata": {},
   "source": [
    "## 6. Visualize UMAP Projection"
   ]
  },
  {
   "cell_type": "code",
   "execution_count": 16,
   "id": "19b4e98e",
   "metadata": {},
   "outputs": [
    {
     "data": {
      "image/png": "[encoded data removed]",
      "text/plain": [
       "<Figure size 1000x700 with 1 Axes>"
      ]
     },
     "metadata": {},
     "output_type": "display_data"
    }
   ],
   "source": [
    "fig = plt.figure(figsize=(10,7))\n",
    "ax = fig.add_subplot(111, projection='3d')\n",
    "sc = ax.scatter(embed[:,0], embed[:,1], embed[:,2], c=labels, cmap='tab10')\n",
    "plt.legend(*sc.legend_elements(), title=\"Cluster\")\n",
    "plt.title(\"UMAP + DBSCAN Clustering\")\n",
    "plt.show()"
   ]
  },
  {
   "cell_type": "markdown",
   "id": "de7fdddc",
   "metadata": {},
   "source": [
    "## 7. Cluster to Function Distribution"
   ]
  },
  {
   "cell_type": "code",
   "execution_count": 17,
   "id": "61df1c3b",
   "metadata": {},
   "outputs": [
    {
     "name": "stdout",
     "output_type": "stream",
     "text": [
      "\n",
      "🔹 Cluster 0:\n",
      "  descriptive: 11 / 31\n",
      "  evaluative: 9 / 31\n",
      "  narrative: 11 / 31\n",
      "\n",
      "🔹 Cluster 1:\n",
      "  descriptive: 1 / 4\n",
      "  evaluative: 3 / 4\n",
      "\n",
      "🔹 Cluster -1:\n",
      "  narrative: 1 / 1\n"
     ]
    }
   ],
   "source": [
    "# ⛳ Make sure this matches the filtered trajectories\n",
    "valid_funcs = [semantic_functions[i] for i, traj in enumerate(trajectories) if traj.shape == (12, 768)]\n",
    "\n",
    "# 🧭 Map functions to clusters\n",
    "from collections import defaultdict\n",
    "cluster_map = defaultdict(list)\n",
    "\n",
    "for i, lbl in enumerate(labels):\n",
    "    if i < len(valid_funcs):\n",
    "        cluster_map[lbl].append(valid_funcs[i])\n",
    "\n",
    "# 🖨️ Print function composition of each cluster\n",
    "for cl, fs in cluster_map.items():\n",
    "    print(f\"\\n🔹 Cluster {cl}:\")\n",
    "    for func in sorted(set(fs)):\n",
    "        print(f\"  {func}: {fs.count(func)} / {len(fs)}\")"
   ]
  },
  {
   "cell_type": "code",
   "execution_count": null,
   "id": "a4a62990-b2ed-446a-966c-7bd1e96d264d",
   "metadata": {},
   "outputs": [],
   "source": []
  }
 ],
 "metadata": {
  "kernelspec": {
   "display_name": "Python 3 (ipykernel)",
   "language": "python",
   "name": "python3"
  },
  "language_info": {
   "codemirror_mode": {
    "name": "ipython",
    "version": 3
   },
   "file_extension": ".py",
   "mimetype": "text/x-python",
   "name": "python",
   "nbconvert_exporter": "python",
   "pygments_lexer": "ipython3",
   "version": "3.12.3"
  }
 },
 "nbformat": 4,
 "nbformat_minor": 5
}
