{
 "cells": [
  {
   "cell_type": "markdown",
   "id": "94e79a42",
   "metadata": {},
   "source": [
    "# Semantic Trajectory Notebook (Robust Extraction)\n",
    "This notebook replicates your working script that extracts contextual trajectories of the token 'run' using robust substring matching and token diagnostics."
   ]
  },
  {
   "cell_type": "markdown",
   "id": "6a342daa",
   "metadata": {},
   "source": [
    "## 1. Contextual Sentences"
   ]
  },
  {
   "cell_type": "code",
   "execution_count": 1,
   "id": "def59ff7",
   "metadata": {},
   "outputs": [],
   "source": [
    "sentences = [\n",
    "    \"She likes to run early in the morning before work.\",\n",
    "    \"The software failed to run on the outdated system.\",\n",
    "    \"He decided to run for office in the next election.\",\n",
    "    \"The faucet was left on and water began to run.\",\n",
    "    \"The marathon runner collapsed after a grueling 26-mile run.\",\n",
    "    \"They run a small family-owned bakery downtown.\",\n",
    "    \"The rumor began to run through the school like wildfire.\",\n",
    "    \"The machine will run continuously for 48 hours.\",\n",
    "    \"He was caught in a run of bad luck at the poker table.\",\n",
    "    \"They run tests on the samples before publishing results.\",\n",
    "    \"Run the idea by me one more time.\",\n",
    "    \"Let the engine run for five minutes before starting.\",\n",
    "    \"Run for your life!\",\n",
    "    \"She decided to run the experiment again with new variables.\",\n",
    "    \"They’re running a sale on electronics this weekend.\",\n",
    "    \"She’s running for president of the council.\",\n",
    "    \"The manager ran the meeting efficiently.\",\n",
    "    \"He used to run track in college.\",\n",
    "    \"They run a family-owned bakery downtown.\",\n",
    "    \"He decided to run for office in the next election.\",\n",
    "    \"Please run this report by end of day.\",\n",
    "    \"Run the installer before rebooting.\"\n",
    "]"
   ]
  },
  {
   "cell_type": "markdown",
   "id": "1acdc5c6",
   "metadata": {},
   "source": [
    "## 2. Extract BERT Trajectories"
   ]
  },
  {
   "cell_type": "code",
   "execution_count": 2,
   "id": "7286f149",
   "metadata": {},
   "outputs": [
    {
     "name": "stderr",
     "output_type": "stream",
     "text": [
      "/opt/miniconda3/lib/python3.12/site-packages/tqdm/auto.py:21: TqdmWarning: IProgress not found. Please update jupyter and ipywidgets. See https://ipywidgets.readthedocs.io/en/stable/user_install.html\n",
      "  from .autonotebook import tqdm as notebook_tqdm\n"
     ]
    },
    {
     "name": "stdout",
     "output_type": "stream",
     "text": [
      "🔍 Matching token: 'run'\n"
     ]
    },
    {
     "name": "stderr",
     "output_type": "stream",
     "text": [
      "  0%|                                                                                                                        | 0/22 [00:00<?, ?it/s]"
     ]
    },
    {
     "name": "stdout",
     "output_type": "stream",
     "text": [
      "🧾 Sentence: She likes to run early in the morning before work.\n",
      "🔤 Tokens: ['[CLS]', 'she', 'likes', 'to', 'run', 'early', 'in', 'the', 'morning', 'before', 'work', '.', '[SEP]']\n"
     ]
    },
    {
     "name": "stderr",
     "output_type": "stream",
     "text": [
      "  9%|██████████▏                                                                                                     | 2/22 [00:00<00:02,  9.36it/s]"
     ]
    },
    {
     "name": "stdout",
     "output_type": "stream",
     "text": [
      "🧾 Sentence: The software failed to run on the outdated system.\n",
      "🔤 Tokens: ['[CLS]', 'the', 'software', 'failed', 'to', 'run', 'on', 'the', 'outdated', 'system', '.', '[SEP]']\n"
     ]
    },
    {
     "name": "stderr",
     "output_type": "stream",
     "text": [
      " 14%|███████████████▎                                                                                                | 3/22 [00:00<00:02,  7.05it/s]"
     ]
    },
    {
     "name": "stdout",
     "output_type": "stream",
     "text": [
      "🧾 Sentence: He decided to run for office in the next election.\n",
      "🔤 Tokens: ['[CLS]', 'he', 'decided', 'to', 'run', 'for', 'office', 'in', 'the', 'next', 'election', '.', '[SEP]']\n"
     ]
    },
    {
     "name": "stderr",
     "output_type": "stream",
     "text": [
      " 18%|████████████████████▎                                                                                           | 4/22 [00:00<00:02,  7.29it/s]"
     ]
    },
    {
     "name": "stdout",
     "output_type": "stream",
     "text": [
      "🧾 Sentence: The faucet was left on and water began to run.\n",
      "🔤 Tokens: ['[CLS]', 'the', 'fa', '##uce', '##t', 'was', 'left', 'on', 'and', 'water', 'began', 'to', 'run', '.', '[SEP]']\n"
     ]
    },
    {
     "name": "stderr",
     "output_type": "stream",
     "text": [
      " 23%|█████████████████████████▍                                                                                      | 5/22 [00:00<00:02,  6.82it/s]"
     ]
    },
    {
     "name": "stdout",
     "output_type": "stream",
     "text": [
      "🧾 Sentence: The marathon runner collapsed after a grueling 26-mile run.\n",
      "🔤 Tokens: ['[CLS]', 'the', 'marathon', 'runner', 'collapsed', 'after', 'a', 'gr', '##uel', '##ing', '26', '-', 'mile', 'run', '.', '[SEP]']\n"
     ]
    },
    {
     "name": "stderr",
     "output_type": "stream",
     "text": [
      " 27%|██████████████████████████████▌                                                                                 | 6/22 [00:00<00:02,  7.23it/s]"
     ]
    },
    {
     "name": "stdout",
     "output_type": "stream",
     "text": [
      "🧾 Sentence: They run a small family-owned bakery downtown.\n",
      "🔤 Tokens: ['[CLS]', 'they', 'run', 'a', 'small', 'family', '-', 'owned', 'bakery', 'downtown', '.', '[SEP]']\n",
      "🧾 Sentence: The rumor began to run through the school like wildfire.\n",
      "🔤 Tokens: ['[CLS]', 'the', 'rumor', 'began', 'to', 'run', 'through', 'the', 'school', 'like', 'wild', '##fire', '.', '[SEP]']\n"
     ]
    },
    {
     "name": "stderr",
     "output_type": "stream",
     "text": [
      " 36%|████████████████████████████████████████▋                                                                       | 8/22 [00:00<00:01,  8.91it/s]"
     ]
    },
    {
     "name": "stdout",
     "output_type": "stream",
     "text": [
      "🧾 Sentence: The machine will run continuously for 48 hours.\n",
      "🔤 Tokens: ['[CLS]', 'the', 'machine', 'will', 'run', 'continuously', 'for', '48', 'hours', '.', '[SEP]']\n"
     ]
    },
    {
     "name": "stderr",
     "output_type": "stream",
     "text": [
      " 41%|█████████████████████████████████████████████▊                                                                  | 9/22 [00:01<00:01,  8.55it/s]"
     ]
    },
    {
     "name": "stdout",
     "output_type": "stream",
     "text": [
      "🧾 Sentence: He was caught in a run of bad luck at the poker table.\n",
      "🔤 Tokens: ['[CLS]', 'he', 'was', 'caught', 'in', 'a', 'run', 'of', 'bad', 'luck', 'at', 'the', 'poker', 'table', '.', '[SEP]']\n"
     ]
    },
    {
     "name": "stderr",
     "output_type": "stream",
     "text": [
      " 45%|██████████████████████████████████████████████████▍                                                            | 10/22 [00:01<00:01,  7.92it/s]"
     ]
    },
    {
     "name": "stdout",
     "output_type": "stream",
     "text": [
      "🧾 Sentence: They run tests on the samples before publishing results.\n",
      "🔤 Tokens: ['[CLS]', 'they', 'run', 'tests', 'on', 'the', 'samples', 'before', 'publishing', 'results', '.', '[SEP]']\n"
     ]
    },
    {
     "name": "stderr",
     "output_type": "stream",
     "text": [
      " 55%|████████████████████████████████████████████████████████████▌                                                  | 12/22 [00:01<00:01,  9.37it/s]"
     ]
    },
    {
     "name": "stdout",
     "output_type": "stream",
     "text": [
      "🧾 Sentence: Run the idea by me one more time.\n",
      "🔤 Tokens: ['[CLS]', 'run', 'the', 'idea', 'by', 'me', 'one', 'more', 'time', '.', '[SEP]']\n",
      "🧾 Sentence: Let the engine run for five minutes before starting.\n",
      "🔤 Tokens: ['[CLS]', 'let', 'the', 'engine', 'run', 'for', 'five', 'minutes', 'before', 'starting', '.', '[SEP]']\n",
      "🧾 Sentence: Run for your life!\n",
      "🔤 Tokens: ['[CLS]', 'run', 'for', 'your', 'life', '!', '[SEP]']\n"
     ]
    },
    {
     "name": "stderr",
     "output_type": "stream",
     "text": [
      " 64%|██████████████████████████████████████████████████████████████████████▋                                        | 14/22 [00:01<00:00,  9.94it/s]"
     ]
    },
    {
     "name": "stdout",
     "output_type": "stream",
     "text": [
      "🧾 Sentence: She decided to run the experiment again with new variables.\n",
      "🔤 Tokens: ['[CLS]', 'she', 'decided', 'to', 'run', 'the', 'experiment', 'again', 'with', 'new', 'variables', '.', '[SEP]']\n",
      "🧾 Sentence: They’re running a sale on electronics this weekend.\n",
      "🔤 Tokens: ['[CLS]', 'they', '’', 're', 'running', 'a', 'sale', 'on', 'electronics', 'this', 'weekend', '.', '[SEP]']\n"
     ]
    },
    {
     "name": "stderr",
     "output_type": "stream",
     "text": [
      " 73%|████████████████████████████████████████████████████████████████████████████████▋                              | 16/22 [00:01<00:00, 10.78it/s]"
     ]
    },
    {
     "name": "stdout",
     "output_type": "stream",
     "text": [
      "🧾 Sentence: She’s running for president of the council.\n",
      "🔤 Tokens: ['[CLS]', 'she', '’', 's', 'running', 'for', 'president', 'of', 'the', 'council', '.', '[SEP]']\n"
     ]
    },
    {
     "name": "stderr",
     "output_type": "stream",
     "text": [
      " 82%|██████████████████████████████████████████████████████████████████████████████████████████▊                    | 18/22 [00:01<00:00, 10.98it/s]"
     ]
    },
    {
     "name": "stdout",
     "output_type": "stream",
     "text": [
      "🧾 Sentence: The manager ran the meeting efficiently.\n",
      "🔤 Tokens: ['[CLS]', 'the', 'manager', 'ran', 'the', 'meeting', 'efficiently', '.', '[SEP]']\n",
      "⚠️ No 'run' token found — skipping.\n",
      "🧾 Sentence: He used to run track in college.\n",
      "🔤 Tokens: ['[CLS]', 'he', 'used', 'to', 'run', 'track', 'in', 'college', '.', '[SEP]']\n"
     ]
    },
    {
     "name": "stderr",
     "output_type": "stream",
     "text": [
      " 91%|████████████████████████████████████████████████████████████████████████████████████████████████████▉          | 20/22 [00:02<00:00,  8.12it/s]"
     ]
    },
    {
     "name": "stdout",
     "output_type": "stream",
     "text": [
      "🧾 Sentence: They run a family-owned bakery downtown.\n",
      "🔤 Tokens: ['[CLS]', 'they', 'run', 'a', 'family', '-', 'owned', 'bakery', 'downtown', '.', '[SEP]']\n",
      "🧾 Sentence: He decided to run for office in the next election.\n",
      "🔤 Tokens: ['[CLS]', 'he', 'decided', 'to', 'run', 'for', 'office', 'in', 'the', 'next', 'election', '.', '[SEP]']\n"
     ]
    },
    {
     "name": "stderr",
     "output_type": "stream",
     "text": [
      " 95%|█████████████████████████████████████████████████████████████████████████████████████████████████████████▉     | 21/22 [00:02<00:00,  6.81it/s]"
     ]
    },
    {
     "name": "stdout",
     "output_type": "stream",
     "text": [
      "🧾 Sentence: Please run this report by end of day.\n",
      "🔤 Tokens: ['[CLS]', 'please', 'run', 'this', 'report', 'by', 'end', 'of', 'day', '.', '[SEP]']\n"
     ]
    },
    {
     "name": "stderr",
     "output_type": "stream",
     "text": [
      "100%|███████████████████████████████████████████████████████████████████████████████████████████████████████████████| 22/22 [00:02<00:00,  7.68it/s]"
     ]
    },
    {
     "name": "stdout",
     "output_type": "stream",
     "text": [
      "🧾 Sentence: Run the installer before rebooting.\n",
      "🔤 Tokens: ['[CLS]', 'run', 'the', 'install', '##er', 'before', 're', '##boot', '##ing', '.', '[SEP]']\n",
      "\n",
      "✅ Extracted 21 valid trajectories.\n"
     ]
    },
    {
     "name": "stderr",
     "output_type": "stream",
     "text": [
      "\n"
     ]
    }
   ],
   "source": [
    "from transformers import BertTokenizer, BertModel\n",
    "import torch, numpy as np\n",
    "from tqdm import tqdm\n",
    "\n",
    "tokenizer = BertTokenizer.from_pretrained(\"bert-base-uncased\")\n",
    "model = BertModel.from_pretrained(\"bert-base-uncased\", output_hidden_states=True)\n",
    "model.eval()\n",
    "\n",
    "trajectories = []\n",
    "valid_sentences = []\n",
    "\n",
    "print(\"🔍 Matching token: 'run'\")\n",
    "\n",
    "for sent in tqdm(sentences):\n",
    "    inputs = tokenizer(sent, return_tensors=\"pt\")\n",
    "    with torch.no_grad():\n",
    "        outputs = model(**inputs)\n",
    "    input_ids = inputs[\"input_ids\"][0]\n",
    "    tokens = tokenizer.convert_ids_to_tokens(input_ids)\n",
    "\n",
    "    print(f\"🧾 Sentence: {sent}\")\n",
    "    print(f\"🔤 Tokens: {tokens}\")\n",
    "\n",
    "    match_indices = [i for i, tok in enumerate(tokens) if \"run\" in tok.lower()]\n",
    "    if not match_indices:\n",
    "        print(\"⚠️ No 'run' token found — skipping.\")\n",
    "        continue\n",
    "\n",
    "    idx = match_indices[0]\n",
    "    layers = outputs.hidden_states\n",
    "    curve = torch.stack([layer[0, idx] for layer in layers])  # shape: (13, 768)\n",
    "    curve = curve[-12:]  # last 12 layers only\n",
    "\n",
    "    if curve.shape == (12, 768):\n",
    "        trajectories.append(curve.numpy())\n",
    "        valid_sentences.append(sent)\n",
    "    else:\n",
    "        print(\"❌ Unexpected shape — skipping.\")\n",
    "\n",
    "print(f\"\\n✅ Extracted {len(trajectories)} valid trajectories.\")"
   ]
  },
  {
   "cell_type": "markdown",
   "id": "310224a9",
   "metadata": {},
   "source": [
    "## 3. Summary"
   ]
  },
  {
   "cell_type": "code",
   "execution_count": 3,
   "id": "43e2d28d",
   "metadata": {},
   "outputs": [
    {
     "name": "stdout",
     "output_type": "stream",
     "text": [
      "Total valid trajectories: 21\n"
     ]
    }
   ],
   "source": [
    "print(f'Total valid trajectories: {len(trajectories)}')"
   ]
  },
  {
   "cell_type": "code",
   "execution_count": null,
   "id": "4b5d3d79-8c2f-40b7-977f-44195aafa6b3",
   "metadata": {},
   "outputs": [],
   "source": []
  }
 ],
 "metadata": {
  "kernelspec": {
   "display_name": "Python 3 (ipykernel)",
   "language": "python",
   "name": "python3"
  },
  "language_info": {
   "codemirror_mode": {
    "name": "ipython",
    "version": 3
   },
   "file_extension": ".py",
   "mimetype": "text/x-python",
   "name": "python",
   "nbconvert_exporter": "python",
   "pygments_lexer": "ipython3",
   "version": "3.12.3"
  }
 },
 "nbformat": 4,
 "nbformat_minor": 5
}
